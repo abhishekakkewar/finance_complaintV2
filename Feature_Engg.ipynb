{
 "cells": [
  {
   "cell_type": "markdown",
   "metadata": {},
   "source": [
    "Feature Engineering and Model training"
   ]
  },
  {
   "cell_type": "code",
   "execution_count": 120,
   "metadata": {},
   "outputs": [],
   "source": [
    "import pandas as pd \n",
    "import numpy as np \n",
    "import matplotlib.pyplot as plt\n",
    "import seaborn as sns\n",
    "import plotly.express as px\n",
    "\n",
    "import warnings\n",
    "warnings.filterwarnings(\"ignore\")"
   ]
  },
  {
   "cell_type": "markdown",
   "metadata": {},
   "source": []
  },
  {
   "cell_type": "code",
   "execution_count": 121,
   "metadata": {},
   "outputs": [],
   "source": [
    "# for text processing\n",
    "\n",
    "import nltk\n",
    "from nltk.corpus import stopwords\n",
    "from nltk import word_tokenize, FreqDist\n",
    "import string\n",
    "from nltk.stem.wordnet import WordNetLemmatizer\n",
    "from sklearn.feature_extraction.text import TfidfVectorizer"
   ]
  },
  {
   "cell_type": "code",
   "execution_count": 122,
   "metadata": {},
   "outputs": [],
   "source": [
    "# For classification model slection\n",
    "from sklearn.tree import DecisionTreeClassifier\n",
    "from sklearn.ensemble import RandomForestClassifier, GradientBoostingClassifier, AdaBoostClassifier\n",
    "from sklearn.linear_model import LogisticRegression\n",
    "from sklearn.neighbors import KNeighborsClassifier\n",
    "from sklearn.metrics import accuracy_score, confusion_matrix, ConfusionMatrixDisplay, precision_score, recall_score, f1_score, roc_auc_score\n",
    "from sklearn.svm import SVC\n",
    "from sklearn.tree import DecisionTreeClassifier"
   ]
  },
  {
   "cell_type": "code",
   "execution_count": 123,
   "metadata": {},
   "outputs": [],
   "source": [
    "from xgboost import XGBClassifier\n",
    "from catboost import CatBoostClassifier"
   ]
  },
  {
   "cell_type": "code",
   "execution_count": 124,
   "metadata": {},
   "outputs": [],
   "source": [
    "from sklearn.preprocessing import OneHotEncoder, StandardScaler, RobustScaler\n",
    "from sklearn.compose import ColumnTransformer\n",
    "from sklearn.pipeline import Pipeline\n",
    "from sklearn.impute import SimpleImputer"
   ]
  },
  {
   "cell_type": "code",
   "execution_count": 125,
   "metadata": {},
   "outputs": [],
   "source": [
    "from category_encoders.binary import BinaryEncoder\n",
    "from imblearn.combine import SMOTETomek"
   ]
  },
  {
   "cell_type": "code",
   "execution_count": 126,
   "metadata": {},
   "outputs": [],
   "source": [
    "# For Hyperparameter tunning\n",
    "from hyperopt import tpe,hp,Trials,space_eval\n",
    "from hyperopt.fmin import fmin\n",
    "from hyperopt.pyll import scope"
   ]
  },
  {
   "cell_type": "code",
   "execution_count": 127,
   "metadata": {},
   "outputs": [],
   "source": [
    "df = pd.read_parquet(r\"C:\\Users\\aakkewar\\Documents\\BOOTCAMP (PowerBI, SQL, Python, R)\\Bits SEM 4\\Project\\dataset\\complaints_par.parquet\")"
   ]
  },
  {
   "cell_type": "markdown",
   "metadata": {},
   "source": [
    "As per final report of EDA some features can be removed"
   ]
  },
  {
   "cell_type": "code",
   "execution_count": 128,
   "metadata": {},
   "outputs": [],
   "source": [
    "missing = df.isnull().sum().div(df.shape[0]).mul(100).to_frame().sort_values(by=0, ascending=False)"
   ]
  },
  {
   "cell_type": "code",
   "execution_count": 129,
   "metadata": {},
   "outputs": [
    {
     "data": {
      "text/html": [
       "<div>\n",
       "<style scoped>\n",
       "    .dataframe tbody tr th:only-of-type {\n",
       "        vertical-align: middle;\n",
       "    }\n",
       "\n",
       "    .dataframe tbody tr th {\n",
       "        vertical-align: top;\n",
       "    }\n",
       "\n",
       "    .dataframe thead th {\n",
       "        text-align: right;\n",
       "    }\n",
       "</style>\n",
       "<table border=\"1\" class=\"dataframe\">\n",
       "  <thead>\n",
       "    <tr style=\"text-align: right;\">\n",
       "      <th></th>\n",
       "      <th>0</th>\n",
       "    </tr>\n",
       "  </thead>\n",
       "  <tbody>\n",
       "    <tr>\n",
       "      <th>Tags</th>\n",
       "      <td>90.035850</td>\n",
       "    </tr>\n",
       "    <tr>\n",
       "      <th>Consumer disputed?</th>\n",
       "      <td>83.105944</td>\n",
       "    </tr>\n",
       "    <tr>\n",
       "      <th>Consumer complaint narrative</th>\n",
       "      <td>63.737600</td>\n",
       "    </tr>\n",
       "    <tr>\n",
       "      <th>Company public response</th>\n",
       "      <td>52.655076</td>\n",
       "    </tr>\n",
       "    <tr>\n",
       "      <th>Consumer consent provided?</th>\n",
       "      <td>20.112629</td>\n",
       "    </tr>\n",
       "    <tr>\n",
       "      <th>Sub-issue</th>\n",
       "      <td>15.946840</td>\n",
       "    </tr>\n",
       "    <tr>\n",
       "      <th>Sub-product</th>\n",
       "      <td>5.173649</td>\n",
       "    </tr>\n",
       "    <tr>\n",
       "      <th>State</th>\n",
       "      <td>0.967511</td>\n",
       "    </tr>\n",
       "  </tbody>\n",
       "</table>\n",
       "</div>"
      ],
      "text/plain": [
       "                                      0\n",
       "Tags                          90.035850\n",
       "Consumer disputed?            83.105944\n",
       "Consumer complaint narrative  63.737600\n",
       "Company public response       52.655076\n",
       "Consumer consent provided?    20.112629\n",
       "Sub-issue                     15.946840\n",
       "Sub-product                    5.173649\n",
       "State                          0.967511"
      ]
     },
     "execution_count": 129,
     "metadata": {},
     "output_type": "execute_result"
    }
   ],
   "source": [
    "missing[0:8]"
   ]
  },
  {
   "cell_type": "code",
   "execution_count": 130,
   "metadata": {},
   "outputs": [
    {
     "data": {
      "text/html": [
       "<div>\n",
       "<style scoped>\n",
       "    .dataframe tbody tr th:only-of-type {\n",
       "        vertical-align: middle;\n",
       "    }\n",
       "\n",
       "    .dataframe tbody tr th {\n",
       "        vertical-align: top;\n",
       "    }\n",
       "\n",
       "    .dataframe thead th {\n",
       "        text-align: right;\n",
       "    }\n",
       "</style>\n",
       "<table border=\"1\" class=\"dataframe\">\n",
       "  <thead>\n",
       "    <tr style=\"text-align: right;\">\n",
       "      <th></th>\n",
       "      <th>Date received</th>\n",
       "      <th>Product</th>\n",
       "      <th>Sub-product</th>\n",
       "      <th>Issue</th>\n",
       "      <th>Sub-issue</th>\n",
       "      <th>Consumer complaint narrative</th>\n",
       "      <th>Company public response</th>\n",
       "      <th>Company</th>\n",
       "      <th>State</th>\n",
       "      <th>ZIP code</th>\n",
       "      <th>Tags</th>\n",
       "      <th>Consumer consent provided?</th>\n",
       "      <th>Submitted via</th>\n",
       "      <th>Date sent to company</th>\n",
       "      <th>Company response to consumer</th>\n",
       "      <th>Timely response?</th>\n",
       "      <th>Consumer disputed?</th>\n",
       "      <th>Complaint ID</th>\n",
       "    </tr>\n",
       "  </thead>\n",
       "  <tbody>\n",
       "    <tr>\n",
       "      <th>0</th>\n",
       "      <td>2024-01-13</td>\n",
       "      <td>Credit reporting or other personal consumer re...</td>\n",
       "      <td>Credit reporting</td>\n",
       "      <td>Incorrect information on your report</td>\n",
       "      <td>Information belongs to someone else</td>\n",
       "      <td>None</td>\n",
       "      <td>None</td>\n",
       "      <td>TRANSUNION INTERMEDIATE HOLDINGS, INC.</td>\n",
       "      <td>FL</td>\n",
       "      <td>33401</td>\n",
       "      <td>None</td>\n",
       "      <td>Other</td>\n",
       "      <td>Web</td>\n",
       "      <td>2024-01-13</td>\n",
       "      <td>In progress</td>\n",
       "      <td>Yes</td>\n",
       "      <td>None</td>\n",
       "      <td>8154057</td>\n",
       "    </tr>\n",
       "    <tr>\n",
       "      <th>1</th>\n",
       "      <td>2024-01-12</td>\n",
       "      <td>Credit reporting or other personal consumer re...</td>\n",
       "      <td>Credit reporting</td>\n",
       "      <td>Incorrect information on your report</td>\n",
       "      <td>Information belongs to someone else</td>\n",
       "      <td>None</td>\n",
       "      <td>None</td>\n",
       "      <td>TRANSUNION INTERMEDIATE HOLDINGS, INC.</td>\n",
       "      <td>FL</td>\n",
       "      <td>32209</td>\n",
       "      <td>None</td>\n",
       "      <td>Other</td>\n",
       "      <td>Web</td>\n",
       "      <td>2024-01-12</td>\n",
       "      <td>In progress</td>\n",
       "      <td>Yes</td>\n",
       "      <td>None</td>\n",
       "      <td>8153174</td>\n",
       "    </tr>\n",
       "    <tr>\n",
       "      <th>2</th>\n",
       "      <td>2024-01-13</td>\n",
       "      <td>Credit reporting or other personal consumer re...</td>\n",
       "      <td>Credit reporting</td>\n",
       "      <td>Incorrect information on your report</td>\n",
       "      <td>Account status incorrect</td>\n",
       "      <td>None</td>\n",
       "      <td>None</td>\n",
       "      <td>EQUIFAX, INC.</td>\n",
       "      <td>FL</td>\n",
       "      <td>33351</td>\n",
       "      <td>None</td>\n",
       "      <td>None</td>\n",
       "      <td>Web</td>\n",
       "      <td>2024-01-13</td>\n",
       "      <td>In progress</td>\n",
       "      <td>Yes</td>\n",
       "      <td>None</td>\n",
       "      <td>8153758</td>\n",
       "    </tr>\n",
       "    <tr>\n",
       "      <th>3</th>\n",
       "      <td>2024-01-13</td>\n",
       "      <td>Credit reporting or other personal consumer re...</td>\n",
       "      <td>Credit reporting</td>\n",
       "      <td>Unable to get your credit report or credit score</td>\n",
       "      <td>Other problem getting your report or credit score</td>\n",
       "      <td>None</td>\n",
       "      <td>None</td>\n",
       "      <td>FISERV INC.</td>\n",
       "      <td>CA</td>\n",
       "      <td>90806</td>\n",
       "      <td>None</td>\n",
       "      <td>None</td>\n",
       "      <td>Web</td>\n",
       "      <td>2024-01-13</td>\n",
       "      <td>In progress</td>\n",
       "      <td>Yes</td>\n",
       "      <td>None</td>\n",
       "      <td>8154072</td>\n",
       "    </tr>\n",
       "    <tr>\n",
       "      <th>4</th>\n",
       "      <td>2024-01-13</td>\n",
       "      <td>Credit reporting or other personal consumer re...</td>\n",
       "      <td>Credit reporting</td>\n",
       "      <td>Incorrect information on your report</td>\n",
       "      <td>Information belongs to someone else</td>\n",
       "      <td>None</td>\n",
       "      <td>None</td>\n",
       "      <td>EQUIFAX, INC.</td>\n",
       "      <td>GA</td>\n",
       "      <td>30135</td>\n",
       "      <td>None</td>\n",
       "      <td>None</td>\n",
       "      <td>Web</td>\n",
       "      <td>2024-01-13</td>\n",
       "      <td>In progress</td>\n",
       "      <td>Yes</td>\n",
       "      <td>None</td>\n",
       "      <td>8154093</td>\n",
       "    </tr>\n",
       "  </tbody>\n",
       "</table>\n",
       "</div>"
      ],
      "text/plain": [
       "  Date received                                            Product  \\\n",
       "0    2024-01-13  Credit reporting or other personal consumer re...   \n",
       "1    2024-01-12  Credit reporting or other personal consumer re...   \n",
       "2    2024-01-13  Credit reporting or other personal consumer re...   \n",
       "3    2024-01-13  Credit reporting or other personal consumer re...   \n",
       "4    2024-01-13  Credit reporting or other personal consumer re...   \n",
       "\n",
       "        Sub-product                                             Issue  \\\n",
       "0  Credit reporting              Incorrect information on your report   \n",
       "1  Credit reporting              Incorrect information on your report   \n",
       "2  Credit reporting              Incorrect information on your report   \n",
       "3  Credit reporting  Unable to get your credit report or credit score   \n",
       "4  Credit reporting              Incorrect information on your report   \n",
       "\n",
       "                                           Sub-issue  \\\n",
       "0                Information belongs to someone else   \n",
       "1                Information belongs to someone else   \n",
       "2                           Account status incorrect   \n",
       "3  Other problem getting your report or credit score   \n",
       "4                Information belongs to someone else   \n",
       "\n",
       "  Consumer complaint narrative Company public response  \\\n",
       "0                         None                    None   \n",
       "1                         None                    None   \n",
       "2                         None                    None   \n",
       "3                         None                    None   \n",
       "4                         None                    None   \n",
       "\n",
       "                                  Company State ZIP code  Tags  \\\n",
       "0  TRANSUNION INTERMEDIATE HOLDINGS, INC.    FL    33401  None   \n",
       "1  TRANSUNION INTERMEDIATE HOLDINGS, INC.    FL    32209  None   \n",
       "2                           EQUIFAX, INC.    FL    33351  None   \n",
       "3                             FISERV INC.    CA    90806  None   \n",
       "4                           EQUIFAX, INC.    GA    30135  None   \n",
       "\n",
       "  Consumer consent provided? Submitted via Date sent to company  \\\n",
       "0                      Other           Web           2024-01-13   \n",
       "1                      Other           Web           2024-01-12   \n",
       "2                       None           Web           2024-01-13   \n",
       "3                       None           Web           2024-01-13   \n",
       "4                       None           Web           2024-01-13   \n",
       "\n",
       "  Company response to consumer Timely response? Consumer disputed?  \\\n",
       "0                  In progress              Yes               None   \n",
       "1                  In progress              Yes               None   \n",
       "2                  In progress              Yes               None   \n",
       "3                  In progress              Yes               None   \n",
       "4                  In progress              Yes               None   \n",
       "\n",
       "   Complaint ID  \n",
       "0       8154057  \n",
       "1       8153174  \n",
       "2       8153758  \n",
       "3       8154072  \n",
       "4       8154093  "
      ]
     },
     "execution_count": 130,
     "metadata": {},
     "output_type": "execute_result"
    }
   ],
   "source": [
    "df.head()"
   ]
  },
  {
   "cell_type": "code",
   "execution_count": 131,
   "metadata": {},
   "outputs": [],
   "source": [
    "#Company column can be dropped as it contains 4284 null values which are names"
   ]
  },
  {
   "cell_type": "code",
   "execution_count": 132,
   "metadata": {},
   "outputs": [
    {
     "data": {
      "text/plain": [
       "Index(['Date received', 'Product', 'Sub-product', 'Issue', 'Sub-issue',\n",
       "       'Consumer complaint narrative', 'Company public response', 'Company',\n",
       "       'State', 'ZIP code', 'Tags', 'Consumer consent provided?',\n",
       "       'Submitted via', 'Date sent to company', 'Company response to consumer',\n",
       "       'Timely response?', 'Consumer disputed?', 'Complaint ID'],\n",
       "      dtype='object')"
      ]
     },
     "execution_count": 132,
     "metadata": {},
     "output_type": "execute_result"
    }
   ],
   "source": [
    "df.columns"
   ]
  },
  {
   "cell_type": "code",
   "execution_count": 133,
   "metadata": {},
   "outputs": [],
   "source": [
    "drop_columns = ['Sub-product','Sub-issue','Company public response', 'Company','ZIP code', 'Tags','Complaint ID']\n",
    "df.drop(drop_columns, axis=1, inplace=True)"
   ]
  },
  {
   "cell_type": "code",
   "execution_count": 134,
   "metadata": {},
   "outputs": [],
   "source": [
    "missing = df.isnull().sum().div(df.shape[0]).mul(100).to_frame().sort_values(by=0, ascending=False)"
   ]
  },
  {
   "cell_type": "code",
   "execution_count": 135,
   "metadata": {},
   "outputs": [
    {
     "data": {
      "text/html": [
       "<div>\n",
       "<style scoped>\n",
       "    .dataframe tbody tr th:only-of-type {\n",
       "        vertical-align: middle;\n",
       "    }\n",
       "\n",
       "    .dataframe tbody tr th {\n",
       "        vertical-align: top;\n",
       "    }\n",
       "\n",
       "    .dataframe thead th {\n",
       "        text-align: right;\n",
       "    }\n",
       "</style>\n",
       "<table border=\"1\" class=\"dataframe\">\n",
       "  <thead>\n",
       "    <tr style=\"text-align: right;\">\n",
       "      <th></th>\n",
       "      <th>0</th>\n",
       "    </tr>\n",
       "  </thead>\n",
       "  <tbody>\n",
       "    <tr>\n",
       "      <th>Consumer disputed?</th>\n",
       "      <td>83.105944</td>\n",
       "    </tr>\n",
       "    <tr>\n",
       "      <th>Consumer complaint narrative</th>\n",
       "      <td>63.737600</td>\n",
       "    </tr>\n",
       "    <tr>\n",
       "      <th>Consumer consent provided?</th>\n",
       "      <td>20.112629</td>\n",
       "    </tr>\n",
       "    <tr>\n",
       "      <th>State</th>\n",
       "      <td>0.967511</td>\n",
       "    </tr>\n",
       "    <tr>\n",
       "      <th>Company response to consumer</th>\n",
       "      <td>0.000176</td>\n",
       "    </tr>\n",
       "    <tr>\n",
       "      <th>Date received</th>\n",
       "      <td>0.000000</td>\n",
       "    </tr>\n",
       "    <tr>\n",
       "      <th>Product</th>\n",
       "      <td>0.000000</td>\n",
       "    </tr>\n",
       "    <tr>\n",
       "      <th>Issue</th>\n",
       "      <td>0.000000</td>\n",
       "    </tr>\n",
       "    <tr>\n",
       "      <th>Submitted via</th>\n",
       "      <td>0.000000</td>\n",
       "    </tr>\n",
       "    <tr>\n",
       "      <th>Date sent to company</th>\n",
       "      <td>0.000000</td>\n",
       "    </tr>\n",
       "    <tr>\n",
       "      <th>Timely response?</th>\n",
       "      <td>0.000000</td>\n",
       "    </tr>\n",
       "  </tbody>\n",
       "</table>\n",
       "</div>"
      ],
      "text/plain": [
       "                                      0\n",
       "Consumer disputed?            83.105944\n",
       "Consumer complaint narrative  63.737600\n",
       "Consumer consent provided?    20.112629\n",
       "State                          0.967511\n",
       "Company response to consumer   0.000176\n",
       "Date received                  0.000000\n",
       "Product                        0.000000\n",
       "Issue                          0.000000\n",
       "Submitted via                  0.000000\n",
       "Date sent to company           0.000000\n",
       "Timely response?               0.000000"
      ]
     },
     "execution_count": 135,
     "metadata": {},
     "output_type": "execute_result"
    }
   ],
   "source": [
    "missing"
   ]
  },
  {
   "cell_type": "code",
   "execution_count": 136,
   "metadata": {},
   "outputs": [
    {
     "data": {
      "text/plain": [
       "(4547854, 11)"
      ]
     },
     "execution_count": 136,
     "metadata": {},
     "output_type": "execute_result"
    }
   ],
   "source": [
    "df.shape"
   ]
  },
  {
   "cell_type": "code",
   "execution_count": 137,
   "metadata": {},
   "outputs": [],
   "source": [
    "df.dropna(subset=['Consumer disputed?'], inplace=True)\n",
    "df.dropna(subset=['Consumer complaint narrative'], inplace=True)"
   ]
  },
  {
   "cell_type": "code",
   "execution_count": 138,
   "metadata": {},
   "outputs": [
    {
     "data": {
      "text/html": [
       "<div>\n",
       "<style scoped>\n",
       "    .dataframe tbody tr th:only-of-type {\n",
       "        vertical-align: middle;\n",
       "    }\n",
       "\n",
       "    .dataframe tbody tr th {\n",
       "        vertical-align: top;\n",
       "    }\n",
       "\n",
       "    .dataframe thead th {\n",
       "        text-align: right;\n",
       "    }\n",
       "</style>\n",
       "<table border=\"1\" class=\"dataframe\">\n",
       "  <thead>\n",
       "    <tr style=\"text-align: right;\">\n",
       "      <th></th>\n",
       "      <th>0</th>\n",
       "    </tr>\n",
       "  </thead>\n",
       "  <tbody>\n",
       "    <tr>\n",
       "      <th>State</th>\n",
       "      <td>0.279859</td>\n",
       "    </tr>\n",
       "    <tr>\n",
       "      <th>Date received</th>\n",
       "      <td>0.000000</td>\n",
       "    </tr>\n",
       "    <tr>\n",
       "      <th>Product</th>\n",
       "      <td>0.000000</td>\n",
       "    </tr>\n",
       "    <tr>\n",
       "      <th>Issue</th>\n",
       "      <td>0.000000</td>\n",
       "    </tr>\n",
       "    <tr>\n",
       "      <th>Consumer complaint narrative</th>\n",
       "      <td>0.000000</td>\n",
       "    </tr>\n",
       "    <tr>\n",
       "      <th>Consumer consent provided?</th>\n",
       "      <td>0.000000</td>\n",
       "    </tr>\n",
       "    <tr>\n",
       "      <th>Submitted via</th>\n",
       "      <td>0.000000</td>\n",
       "    </tr>\n",
       "    <tr>\n",
       "      <th>Date sent to company</th>\n",
       "      <td>0.000000</td>\n",
       "    </tr>\n",
       "    <tr>\n",
       "      <th>Company response to consumer</th>\n",
       "      <td>0.000000</td>\n",
       "    </tr>\n",
       "    <tr>\n",
       "      <th>Timely response?</th>\n",
       "      <td>0.000000</td>\n",
       "    </tr>\n",
       "    <tr>\n",
       "      <th>Consumer disputed?</th>\n",
       "      <td>0.000000</td>\n",
       "    </tr>\n",
       "  </tbody>\n",
       "</table>\n",
       "</div>"
      ],
      "text/plain": [
       "                                     0\n",
       "State                         0.279859\n",
       "Date received                 0.000000\n",
       "Product                       0.000000\n",
       "Issue                         0.000000\n",
       "Consumer complaint narrative  0.000000\n",
       "Consumer consent provided?    0.000000\n",
       "Submitted via                 0.000000\n",
       "Date sent to company          0.000000\n",
       "Company response to consumer  0.000000\n",
       "Timely response?              0.000000\n",
       "Consumer disputed?            0.000000"
      ]
     },
     "execution_count": 138,
     "metadata": {},
     "output_type": "execute_result"
    }
   ],
   "source": [
    "missing = df.isnull().sum().div(df.shape[0]).mul(100).to_frame().sort_values(by=0, ascending=False)\n",
    "missing"
   ]
  },
  {
   "cell_type": "markdown",
   "metadata": {},
   "source": [
    "In some columns on df have missing values. it can be imputed with simple imputer with mode strategy"
   ]
  },
  {
   "cell_type": "markdown",
   "metadata": {},
   "source": [
    "Feature Extraction"
   ]
  },
  {
   "cell_type": "code",
   "execution_count": 139,
   "metadata": {},
   "outputs": [
    {
     "data": {
      "text/html": [
       "<div>\n",
       "<style scoped>\n",
       "    .dataframe tbody tr th:only-of-type {\n",
       "        vertical-align: middle;\n",
       "    }\n",
       "\n",
       "    .dataframe tbody tr th {\n",
       "        vertical-align: top;\n",
       "    }\n",
       "\n",
       "    .dataframe thead th {\n",
       "        text-align: right;\n",
       "    }\n",
       "</style>\n",
       "<table border=\"1\" class=\"dataframe\">\n",
       "  <thead>\n",
       "    <tr style=\"text-align: right;\">\n",
       "      <th></th>\n",
       "      <th>Date received</th>\n",
       "      <th>Date sent to company</th>\n",
       "    </tr>\n",
       "  </thead>\n",
       "  <tbody>\n",
       "    <tr>\n",
       "      <th>2199</th>\n",
       "      <td>2016-11-09</td>\n",
       "      <td>2016-11-09</td>\n",
       "    </tr>\n",
       "    <tr>\n",
       "      <th>19946</th>\n",
       "      <td>2017-04-01</td>\n",
       "      <td>2017-04-01</td>\n",
       "    </tr>\n",
       "    <tr>\n",
       "      <th>24151</th>\n",
       "      <td>2016-03-09</td>\n",
       "      <td>2016-03-11</td>\n",
       "    </tr>\n",
       "    <tr>\n",
       "      <th>24620</th>\n",
       "      <td>2016-06-21</td>\n",
       "      <td>2016-06-24</td>\n",
       "    </tr>\n",
       "    <tr>\n",
       "      <th>24893</th>\n",
       "      <td>2016-11-14</td>\n",
       "      <td>2016-11-15</td>\n",
       "    </tr>\n",
       "  </tbody>\n",
       "</table>\n",
       "</div>"
      ],
      "text/plain": [
       "      Date received Date sent to company\n",
       "2199     2016-11-09           2016-11-09\n",
       "19946    2017-04-01           2017-04-01\n",
       "24151    2016-03-09           2016-03-11\n",
       "24620    2016-06-21           2016-06-24\n",
       "24893    2016-11-14           2016-11-15"
      ]
     },
     "execution_count": 139,
     "metadata": {},
     "output_type": "execute_result"
    }
   ],
   "source": [
    "df[['Date received', 'Date sent to company']].head()"
   ]
  },
  {
   "cell_type": "markdown",
   "metadata": {},
   "source": [
    "Here datset has two date feature, 'Date received' which is the date on which the comp;laint was registered to CFPB and 'Date sent to  company' is when the complaint has been sent to respective company."
   ]
  },
  {
   "cell_type": "code",
   "execution_count": 140,
   "metadata": {},
   "outputs": [],
   "source": [
    "#difference between date complaint received vs data complaint sent to the company\n",
    "df['days_to_forward_complaint']= pd.to_datetime(df['Date sent to company']) - pd.to_datetime(df['Date received']) \n",
    "#Get the days in datetime days (numeric) format\n",
    "df['days_to_forward_complaint']= df['days_to_forward_complaint'].dt.days"
   ]
  },
  {
   "cell_type": "code",
   "execution_count": 141,
   "metadata": {},
   "outputs": [],
   "source": [
    "#After creating the days_to_forward_complaint, both the date columns can be removed\n",
    "df.drop(['Date received', 'Date sent to company'], axis=1, inplace=True)"
   ]
  },
  {
   "cell_type": "markdown",
   "metadata": {},
   "source": [
    "The feature days to forward complaint has information about the duration taken for CFPB to forward the complaint to companies"
   ]
  },
  {
   "cell_type": "markdown",
   "metadata": {},
   "source": [
    "For model to reduce computation time we can use sample of the data for model"
   ]
  },
  {
   "cell_type": "code",
   "execution_count": 142,
   "metadata": {},
   "outputs": [
    {
     "name": "stdout",
     "output_type": "stream",
     "text": [
      "                    Product   Issue  Consumer complaint narrative   State  \\\n",
      "Consumer disputed?                                                          \n",
      "No                   128204  128204                        128204  127880   \n",
      "Yes                   35807   35807                         35807   35672   \n",
      "\n",
      "                    Consumer consent provided?  Submitted via  \\\n",
      "Consumer disputed?                                              \n",
      "No                                      128204         128204   \n",
      "Yes                                      35807          35807   \n",
      "\n",
      "                    Company response to consumer  Timely response?  \\\n",
      "Consumer disputed?                                                   \n",
      "No                                        128204            128204   \n",
      "Yes                                        35807             35807   \n",
      "\n",
      "                    days_to_forward_complaint  \n",
      "Consumer disputed?                             \n",
      "No                                     128204  \n",
      "Yes                                     35807  \n"
     ]
    }
   ],
   "source": [
    "df2 =  df.groupby(\"Consumer disputed?\")\n",
    "countaf1 = df2.count()\n",
    "\n",
    "print(countaf1 )"
   ]
  },
  {
   "cell_type": "code",
   "execution_count": 143,
   "metadata": {},
   "outputs": [
    {
     "data": {
      "text/plain": [
       "Consumer disputed?\n",
       "No     78.167928\n",
       "Yes    21.832072\n",
       "Name: proportion, dtype: float64"
      ]
     },
     "execution_count": 143,
     "metadata": {},
     "output_type": "execute_result"
    }
   ],
   "source": [
    "df['Consumer disputed?'].value_counts(normalize=True)*100"
   ]
  },
  {
   "cell_type": "code",
   "execution_count": 144,
   "metadata": {},
   "outputs": [
    {
     "data": {
      "text/plain": [
       "(164011, 10)"
      ]
     },
     "execution_count": 144,
     "metadata": {},
     "output_type": "execute_result"
    }
   ],
   "source": [
    "df.shape"
   ]
  },
  {
   "cell_type": "code",
   "execution_count": 145,
   "metadata": {},
   "outputs": [
    {
     "data": {
      "text/html": [
       "<div>\n",
       "<style scoped>\n",
       "    .dataframe tbody tr th:only-of-type {\n",
       "        vertical-align: middle;\n",
       "    }\n",
       "\n",
       "    .dataframe tbody tr th {\n",
       "        vertical-align: top;\n",
       "    }\n",
       "\n",
       "    .dataframe thead th {\n",
       "        text-align: right;\n",
       "    }\n",
       "</style>\n",
       "<table border=\"1\" class=\"dataframe\">\n",
       "  <thead>\n",
       "    <tr style=\"text-align: right;\">\n",
       "      <th></th>\n",
       "      <th>index</th>\n",
       "      <th>Product</th>\n",
       "      <th>Issue</th>\n",
       "      <th>Consumer complaint narrative</th>\n",
       "      <th>State</th>\n",
       "      <th>Consumer consent provided?</th>\n",
       "      <th>Submitted via</th>\n",
       "      <th>Company response to consumer</th>\n",
       "      <th>Timely response?</th>\n",
       "      <th>Consumer disputed?</th>\n",
       "      <th>days_to_forward_complaint</th>\n",
       "    </tr>\n",
       "  </thead>\n",
       "  <tbody>\n",
       "    <tr>\n",
       "      <th>0</th>\n",
       "      <td>3098543</td>\n",
       "      <td>Debt collection</td>\n",
       "      <td>Improper contact or sharing of info</td>\n",
       "      <td>I started getting calls from XXXX XXXX XXXX XX...</td>\n",
       "      <td>CA</td>\n",
       "      <td>Consent provided</td>\n",
       "      <td>Web</td>\n",
       "      <td>Closed with explanation</td>\n",
       "      <td>Yes</td>\n",
       "      <td>No</td>\n",
       "      <td>0</td>\n",
       "    </tr>\n",
       "    <tr>\n",
       "      <th>1</th>\n",
       "      <td>4014715</td>\n",
       "      <td>Bank account or service</td>\n",
       "      <td>Deposits and withdrawals</td>\n",
       "      <td>I effected a transfer online of {$3500.00} fro...</td>\n",
       "      <td>FL</td>\n",
       "      <td>Consent provided</td>\n",
       "      <td>Web</td>\n",
       "      <td>Closed with explanation</td>\n",
       "      <td>No</td>\n",
       "      <td>No</td>\n",
       "      <td>0</td>\n",
       "    </tr>\n",
       "    <tr>\n",
       "      <th>2</th>\n",
       "      <td>965199</td>\n",
       "      <td>Credit reporting</td>\n",
       "      <td>Unable to get credit report/credit score</td>\n",
       "      <td>Hello, The FTC has a website recommending XXXX...</td>\n",
       "      <td>CA</td>\n",
       "      <td>Consent provided</td>\n",
       "      <td>Web</td>\n",
       "      <td>Closed with monetary relief</td>\n",
       "      <td>Yes</td>\n",
       "      <td>No</td>\n",
       "      <td>0</td>\n",
       "    </tr>\n",
       "    <tr>\n",
       "      <th>3</th>\n",
       "      <td>3087735</td>\n",
       "      <td>Debt collection</td>\n",
       "      <td>Communication tactics</td>\n",
       "      <td>after i was trying to figure out why i got a s...</td>\n",
       "      <td>TX</td>\n",
       "      <td>Consent provided</td>\n",
       "      <td>Web</td>\n",
       "      <td>Closed with explanation</td>\n",
       "      <td>Yes</td>\n",
       "      <td>No</td>\n",
       "      <td>10</td>\n",
       "    </tr>\n",
       "    <tr>\n",
       "      <th>4</th>\n",
       "      <td>2965803</td>\n",
       "      <td>Mortgage</td>\n",
       "      <td>Loan servicing, payments, escrow account</td>\n",
       "      <td>Chase Bank purchased my mortgage from XXXX XXX...</td>\n",
       "      <td>IN</td>\n",
       "      <td>Consent provided</td>\n",
       "      <td>Web</td>\n",
       "      <td>Closed with explanation</td>\n",
       "      <td>Yes</td>\n",
       "      <td>No</td>\n",
       "      <td>0</td>\n",
       "    </tr>\n",
       "  </tbody>\n",
       "</table>\n",
       "</div>"
      ],
      "text/plain": [
       "     index                  Product                                     Issue  \\\n",
       "0  3098543          Debt collection       Improper contact or sharing of info   \n",
       "1  4014715  Bank account or service                  Deposits and withdrawals   \n",
       "2   965199         Credit reporting  Unable to get credit report/credit score   \n",
       "3  3087735          Debt collection                     Communication tactics   \n",
       "4  2965803                 Mortgage  Loan servicing, payments, escrow account   \n",
       "\n",
       "                        Consumer complaint narrative State  \\\n",
       "0  I started getting calls from XXXX XXXX XXXX XX...    CA   \n",
       "1  I effected a transfer online of {$3500.00} fro...    FL   \n",
       "2  Hello, The FTC has a website recommending XXXX...    CA   \n",
       "3  after i was trying to figure out why i got a s...    TX   \n",
       "4  Chase Bank purchased my mortgage from XXXX XXX...    IN   \n",
       "\n",
       "  Consumer consent provided? Submitted via Company response to consumer  \\\n",
       "0           Consent provided           Web      Closed with explanation   \n",
       "1           Consent provided           Web      Closed with explanation   \n",
       "2           Consent provided           Web  Closed with monetary relief   \n",
       "3           Consent provided           Web      Closed with explanation   \n",
       "4           Consent provided           Web      Closed with explanation   \n",
       "\n",
       "  Timely response? Consumer disputed?  days_to_forward_complaint  \n",
       "0              Yes                 No                          0  \n",
       "1               No                 No                          0  \n",
       "2              Yes                 No                          0  \n",
       "3              Yes                 No                         10  \n",
       "4              Yes                 No                          0  "
      ]
     },
     "execution_count": 145,
     "metadata": {},
     "output_type": "execute_result"
    }
   ],
   "source": [
    "df1 = df.groupby(\"Consumer disputed?\").sample(n=35700)\n",
    "df1.reset_index(inplace=True)\n",
    "df1.head(5)"
   ]
  },
  {
   "cell_type": "markdown",
   "metadata": {},
   "source": [
    "Text Processing"
   ]
  },
  {
   "cell_type": "code",
   "execution_count": 146,
   "metadata": {},
   "outputs": [
    {
     "data": {
      "text/plain": [
       "Consumer disputed?\n",
       "No     50.0\n",
       "Yes    50.0\n",
       "Name: proportion, dtype: float64"
      ]
     },
     "execution_count": 146,
     "metadata": {},
     "output_type": "execute_result"
    }
   ],
   "source": [
    "df1['Consumer disputed?'].value_counts(normalize=True)*100"
   ]
  },
  {
   "cell_type": "markdown",
   "metadata": {},
   "source": [
    "Text Processing\n",
    "\n",
    "For Vectorization\n",
    "1. TFIDF\n",
    "2. CountVectorizer\n",
    "3. NLTK/Scipy Library\n",
    "4. Pretrained Glove\n",
    "\n",
    "here we can use the TFIDF to process\n",
    "\n",
    "Steps for text processing\n",
    "1. Remove Punctuation\n",
    "2. Remove Stop words\n",
    "3. Lower Casing\n",
    "4. Tokenization\n",
    "5. Stemming (finding roor word) / Lemmatization (gives complete word)\n",
    "\n",
    "- 'Isuue' column has text which has to be preprocessed\n",
    "- The text needs to be trasnformed into vectors so as the algorithms will be able to make predictions. In this case, it will be used the term Frequency = Inverse Document Frequency (TFIDF) weight to evaluate how important a word is to a document in a collection of documents.  \n",
    "- After removing punctuation and lower casing the words, the importance of work is determined in terms of its frequency."
   ]
  },
  {
   "cell_type": "code",
   "execution_count": 147,
   "metadata": {},
   "outputs": [
    {
     "name": "stderr",
     "output_type": "stream",
     "text": [
      "[nltk_data] Downloading package omw-1.4 to\n",
      "[nltk_data]     C:\\Users\\aakkewar\\AppData\\Roaming\\nltk_data...\n",
      "[nltk_data]   Package omw-1.4 is already up-to-date!\n"
     ]
    },
    {
     "data": {
      "text/plain": [
       "True"
      ]
     },
     "execution_count": 147,
     "metadata": {},
     "output_type": "execute_result"
    }
   ],
   "source": [
    "import nltk\n",
    "\n",
    "# Download the 'stopwords' resource\n",
    "#nltk.download('stopwords')\n",
    "#nltk.download('wordnet')\n",
    "nltk.download('omw-1.4')"
   ]
  },
  {
   "cell_type": "code",
   "execution_count": 148,
   "metadata": {},
   "outputs": [],
   "source": [
    "#create list of stop words which has to be removed\n",
    "stopwords_list = stopwords.words('english') +list(string.punctuation)"
   ]
  },
  {
   "cell_type": "code",
   "execution_count": 149,
   "metadata": {},
   "outputs": [],
   "source": [
    "def process_text(issue):\n",
    "    #create tokens\n",
    "    tokens = nltk.word_tokenize(issue)\n",
    "    #remove common stopwords\n",
    "    stopwords_removed = [token.lower() for token in tokens if token.lower() not in stopwords_list]\n",
    "    #remove stopwords including few punctuations\n",
    "    stopwords_removed = [word for word in stopwords_removed if word.isalpha()]\n",
    "    return stopwords_removed\n",
    "\n",
    "# concat the strings\n",
    "def concat_strings(words_list):\n",
    "    concat_words = ''\n",
    "    for word in words_list:\n",
    "        concat_words += word +' '\n",
    "    return concat_words.strip()\n",
    "\n",
    "#funtion to lemmatize words and merge each complaint into a single space-seprated string\n",
    "lemm =  WordNetLemmatizer()\n",
    "\n",
    "def lemmatizer_concat(words_list):\n",
    "    #remove any NAN's\n",
    "    list_of_words = [i for i in words_list if i is not np.nan]\n",
    "    #lemmatize each word\n",
    "    lemmatized_list = []\n",
    "    for idx, word in enumerate(words_list):\n",
    "        lemmatized_list.append(lemm.lemmatize(word))\n",
    "    #make the list into a single string with the words separted by\n",
    "    final_string = concat_strings(lemmatized_list)\n",
    "    return final_string\n"
   ]
  },
  {
   "cell_type": "markdown",
   "metadata": {},
   "source": [
    "Prepare data with text processing"
   ]
  },
  {
   "cell_type": "code",
   "execution_count": 150,
   "metadata": {},
   "outputs": [
    {
     "name": "stdout",
     "output_type": "stream",
     "text": [
      "Prcessed Row Number 0\n"
     ]
    },
    {
     "name": "stdout",
     "output_type": "stream",
     "text": [
      "Prcessed Row Number 5000\n",
      "Prcessed Row Number 10000\n",
      "Prcessed Row Number 15000\n",
      "Prcessed Row Number 20000\n",
      "Prcessed Row Number 25000\n",
      "Prcessed Row Number 30000\n",
      "Prcessed Row Number 35000\n",
      "Prcessed Row Number 40000\n",
      "Prcessed Row Number 45000\n",
      "Prcessed Row Number 50000\n",
      "Prcessed Row Number 55000\n",
      "Prcessed Row Number 60000\n",
      "Prcessed Row Number 65000\n",
      "Prcessed Row Number 70000\n"
     ]
    }
   ],
   "source": [
    "for i in range(len(df1)):\n",
    "    text = process_text(df1['Issue'].iloc[i])\n",
    "    final_texts = lemmatizer_concat(text)\n",
    "    df1['Issue'].iloc[i] = final_texts\n",
    "    if i % 5000 == 0:\n",
    "        print(f'Prcessed Row Number {i}')"
   ]
  },
  {
   "cell_type": "markdown",
   "metadata": {},
   "source": [
    "Vectorizing the processed texts"
   ]
  },
  {
   "cell_type": "code",
   "execution_count": 151,
   "metadata": {},
   "outputs": [
    {
     "data": {
      "text/plain": [
       "array(['account', 'account opening', 'account term', 'acct',\n",
       "       'acct credited', 'acct wrong', 'action', 'adding', 'adding money',\n",
       "       'advance', 'advance fee', 'advertising', 'advertising marketing',\n",
       "       'amount', 'amount charged', 'amt', 'application',\n",
       "       'application originator', 'application processing', 'applied',\n",
       "       'applied receive', 'apply', 'apr', 'apr interest', 'arbitration',\n",
       "       'atm', 'atm card', 'attempt', 'attempt collect', 'available',\n",
       "       'available promised', 'balance', 'balance transfer', 'bank',\n",
       "       'bank account', 'bank acct', 'bankruptcy', 'billing',\n",
       "       'billing dispute', 'billing statement', 'broker', 'ca',\n",
       "       'ca contact', 'ca repay', 'ca stop', 'card', 'card protection',\n",
       "       'cash', 'cash advance', 'caused', 'caused fund', 'change',\n",
       "       'charge', 'charge bank', 'charged', 'charged bank', 'charged fee',\n",
       "       'charged received', 'check', 'closing', 'closing account',\n",
       "       'closing management', 'collect', 'collect debt', 'collection',\n",
       "       'collection foreclosure', 'communication', 'communication tactic',\n",
       "       'company', 'company investigation', 'cont', 'cont attempt',\n",
       "       'contact', 'contact lender', 'contact sharing', 'convenience',\n",
       "       'convenience check', 'cost', 'credit', 'credit card',\n",
       "       'credit decision', 'credit determination', 'credit line',\n",
       "       'credit monitoring', 'credit report', 'credit reporting',\n",
       "       'credit score', 'credited', 'customer', 'customer relation',\n",
       "       'customer service', 'damaged', 'damaged destroyed', 'day',\n",
       "       'day amt', 'dealing', 'dealing lender', 'debit', 'debit atm',\n",
       "       'debt', 'debt owed', 'debt protection', 'decision',\n",
       "       'decision underwriting', 'delay', 'delinquent',\n",
       "       'delinquent account', 'deposit', 'deposit withdrawal', 'destroyed',\n",
       "       'destroyed property', 'destroyed vehicle', 'determination',\n",
       "       'disclosure', 'disclosure info', 'disclosure verification',\n",
       "       'dispute', 'embezzlement', 'escrow', 'escrow account', 'excessive',\n",
       "       'excessive fee', 'exchange', 'exchange rate', 'expect', 'false',\n",
       "       'false statement', 'feature', 'fee', 'fee interest', 'forbearance',\n",
       "       'forbearance workout', 'foreclosure', 'fraud',\n",
       "       'fraud embezzlement', 'fraud scam', 'fund', 'fund low', 'get',\n",
       "       'get credit', 'getting', 'getting loan', 'identity',\n",
       "       'identity protection', 'identity theft', 'illegal',\n",
       "       'illegal action', 'improper', 'improper contact', 'improper use',\n",
       "       'incorrect', 'incorrect exchange', 'incorrect information', 'info',\n",
       "       'information', 'information credit', 'interest', 'interest expect',\n",
       "       'interest rate', 'investigation', 'issuance', 'issuance credit',\n",
       "       'issue', 'late', 'late fee', 'lease', 'lender', 'lender damaged',\n",
       "       'lender repossessed', 'lender servicer', 'lender sold', 'line',\n",
       "       'line credit', 'loan', 'loan apply', 'loan lease',\n",
       "       'loan modification', 'loan servicing', 'lost', 'lost stolen',\n",
       "       'low', 'management', 'managing', 'managing line', 'managing loan',\n",
       "       'managing opening', 'marketing', 'marketing disclosure',\n",
       "       'modification', 'modification collection', 'money',\n",
       "       'money available', 'money order', 'monitoring',\n",
       "       'monitoring identity', 'mortgage', 'mortgage broker', 'opening',\n",
       "       'opening closing', 'order', 'originator', 'originator mortgage',\n",
       "       'overdraft', 'overdraft saving', 'overlimit', 'overlimit fee',\n",
       "       'owed', 'pay', 'payment', 'payment acct', 'payment escrow',\n",
       "       'payment sending', 'payoff', 'payoff process', 'plan', 'privacy',\n",
       "       'problem', 'problem caused', 'problem unable', 'process',\n",
       "       'process cost', 'processing', 'processing delay', 'promised',\n",
       "       'property', 'protection', 'protection debt', 'rate', 'receive',\n",
       "       'receive money', 'received', 'received loan', 'relation', 'repay',\n",
       "       'repay loan', 'report', 'reporting', 'reporting company',\n",
       "       'repossessed', 'repossessed sold', 'representation', 'reward',\n",
       "       'reward feature', 'sale', 'sale account', 'saving',\n",
       "       'saving reward', 'scam', 'score', 'sending', 'sending money',\n",
       "       'service', 'service customer', 'service issue', 'servicer',\n",
       "       'servicing', 'servicing payment', 'settlement',\n",
       "       'settlement process', 'sharing', 'sharing info', 'shopping',\n",
       "       'shopping line', 'shopping loan', 'sold', 'sold property',\n",
       "       'sold vehicle', 'statement', 'statement representation', 'stolen',\n",
       "       'stolen check', 'stolen money', 'stop', 'stop charge', 'tactic',\n",
       "       'taking', 'taking loan', 'term', 'term change', 'theft',\n",
       "       'theft fraud', 'transaction', 'transaction issue', 'transfer',\n",
       "       'transfer fee', 'unable', 'unable get', 'unable pay',\n",
       "       'unauthorized', 'unauthorized issue', 'underwriting',\n",
       "       'unsolicited', 'unsolicited issuance', 'use', 'use credit',\n",
       "       'using', 'using debit', 'vehicle', 'verification',\n",
       "       'verification debt', 'withdrawal', 'workout', 'workout plan',\n",
       "       'wrong', 'wrong amount', 'wrong day'], dtype=object)"
      ]
     },
     "execution_count": 151,
     "metadata": {},
     "output_type": "execute_result"
    }
   ],
   "source": [
    "from sklearn.feature_extraction.text import TfidfVectorizer\n",
    "\n",
    "tfidv = TfidfVectorizer(max_features=None, strip_accents='unicode', analyzer='word', ngram_range=(1,2))\n",
    "\n",
    "#Getting the data after vectorizing issue column\n",
    "df_vect = tfidv.fit_transform(df1['Issue'])\n",
    "\n",
    "feature_names = tfidv.get_feature_names_out()\n",
    "\n",
    "feature_names"
   ]
  },
  {
   "cell_type": "markdown",
   "metadata": {},
   "source": [
    "Data Preprocessing"
   ]
  },
  {
   "cell_type": "markdown",
   "metadata": {},
   "source": [
    "Concat old data with vectorized data from issue text column"
   ]
  },
  {
   "cell_type": "code",
   "execution_count": 152,
   "metadata": {},
   "outputs": [],
   "source": [
    "df1 = pd.concat([df1, pd.DataFrame(df_vect.toarray())], axis=1)"
   ]
  },
  {
   "cell_type": "code",
   "execution_count": 153,
   "metadata": {},
   "outputs": [
    {
     "data": {
      "text/html": [
       "<div>\n",
       "<style scoped>\n",
       "    .dataframe tbody tr th:only-of-type {\n",
       "        vertical-align: middle;\n",
       "    }\n",
       "\n",
       "    .dataframe tbody tr th {\n",
       "        vertical-align: top;\n",
       "    }\n",
       "\n",
       "    .dataframe thead th {\n",
       "        text-align: right;\n",
       "    }\n",
       "</style>\n",
       "<table border=\"1\" class=\"dataframe\">\n",
       "  <thead>\n",
       "    <tr style=\"text-align: right;\">\n",
       "      <th></th>\n",
       "      <th>index</th>\n",
       "      <th>Product</th>\n",
       "      <th>Issue</th>\n",
       "      <th>Consumer complaint narrative</th>\n",
       "      <th>State</th>\n",
       "      <th>Consumer consent provided?</th>\n",
       "      <th>Submitted via</th>\n",
       "      <th>Company response to consumer</th>\n",
       "      <th>Timely response?</th>\n",
       "      <th>Consumer disputed?</th>\n",
       "      <th>...</th>\n",
       "      <th>296</th>\n",
       "      <th>297</th>\n",
       "      <th>298</th>\n",
       "      <th>299</th>\n",
       "      <th>300</th>\n",
       "      <th>301</th>\n",
       "      <th>302</th>\n",
       "      <th>303</th>\n",
       "      <th>304</th>\n",
       "      <th>305</th>\n",
       "    </tr>\n",
       "  </thead>\n",
       "  <tbody>\n",
       "    <tr>\n",
       "      <th>0</th>\n",
       "      <td>3098543</td>\n",
       "      <td>Debt collection</td>\n",
       "      <td>improper contact sharing info</td>\n",
       "      <td>I started getting calls from XXXX XXXX XXXX XX...</td>\n",
       "      <td>CA</td>\n",
       "      <td>Consent provided</td>\n",
       "      <td>Web</td>\n",
       "      <td>Closed with explanation</td>\n",
       "      <td>Yes</td>\n",
       "      <td>No</td>\n",
       "      <td>...</td>\n",
       "      <td>0.0</td>\n",
       "      <td>0.0</td>\n",
       "      <td>0.0</td>\n",
       "      <td>0.0</td>\n",
       "      <td>0.00000</td>\n",
       "      <td>0.0</td>\n",
       "      <td>0.0</td>\n",
       "      <td>0.0</td>\n",
       "      <td>0.0</td>\n",
       "      <td>0.0</td>\n",
       "    </tr>\n",
       "    <tr>\n",
       "      <th>1</th>\n",
       "      <td>4014715</td>\n",
       "      <td>Bank account or service</td>\n",
       "      <td>deposit withdrawal</td>\n",
       "      <td>I effected a transfer online of {$3500.00} fro...</td>\n",
       "      <td>FL</td>\n",
       "      <td>Consent provided</td>\n",
       "      <td>Web</td>\n",
       "      <td>Closed with explanation</td>\n",
       "      <td>No</td>\n",
       "      <td>No</td>\n",
       "      <td>...</td>\n",
       "      <td>0.0</td>\n",
       "      <td>0.0</td>\n",
       "      <td>0.0</td>\n",
       "      <td>0.0</td>\n",
       "      <td>0.57735</td>\n",
       "      <td>0.0</td>\n",
       "      <td>0.0</td>\n",
       "      <td>0.0</td>\n",
       "      <td>0.0</td>\n",
       "      <td>0.0</td>\n",
       "    </tr>\n",
       "    <tr>\n",
       "      <th>2</th>\n",
       "      <td>965199</td>\n",
       "      <td>Credit reporting</td>\n",
       "      <td>unable get credit score</td>\n",
       "      <td>Hello, The FTC has a website recommending XXXX...</td>\n",
       "      <td>CA</td>\n",
       "      <td>Consent provided</td>\n",
       "      <td>Web</td>\n",
       "      <td>Closed with monetary relief</td>\n",
       "      <td>Yes</td>\n",
       "      <td>No</td>\n",
       "      <td>...</td>\n",
       "      <td>0.0</td>\n",
       "      <td>0.0</td>\n",
       "      <td>0.0</td>\n",
       "      <td>0.0</td>\n",
       "      <td>0.00000</td>\n",
       "      <td>0.0</td>\n",
       "      <td>0.0</td>\n",
       "      <td>0.0</td>\n",
       "      <td>0.0</td>\n",
       "      <td>0.0</td>\n",
       "    </tr>\n",
       "    <tr>\n",
       "      <th>3</th>\n",
       "      <td>3087735</td>\n",
       "      <td>Debt collection</td>\n",
       "      <td>communication tactic</td>\n",
       "      <td>after i was trying to figure out why i got a s...</td>\n",
       "      <td>TX</td>\n",
       "      <td>Consent provided</td>\n",
       "      <td>Web</td>\n",
       "      <td>Closed with explanation</td>\n",
       "      <td>Yes</td>\n",
       "      <td>No</td>\n",
       "      <td>...</td>\n",
       "      <td>0.0</td>\n",
       "      <td>0.0</td>\n",
       "      <td>0.0</td>\n",
       "      <td>0.0</td>\n",
       "      <td>0.00000</td>\n",
       "      <td>0.0</td>\n",
       "      <td>0.0</td>\n",
       "      <td>0.0</td>\n",
       "      <td>0.0</td>\n",
       "      <td>0.0</td>\n",
       "    </tr>\n",
       "    <tr>\n",
       "      <th>4</th>\n",
       "      <td>2965803</td>\n",
       "      <td>Mortgage</td>\n",
       "      <td>loan servicing payment escrow account</td>\n",
       "      <td>Chase Bank purchased my mortgage from XXXX XXX...</td>\n",
       "      <td>IN</td>\n",
       "      <td>Consent provided</td>\n",
       "      <td>Web</td>\n",
       "      <td>Closed with explanation</td>\n",
       "      <td>Yes</td>\n",
       "      <td>No</td>\n",
       "      <td>...</td>\n",
       "      <td>0.0</td>\n",
       "      <td>0.0</td>\n",
       "      <td>0.0</td>\n",
       "      <td>0.0</td>\n",
       "      <td>0.00000</td>\n",
       "      <td>0.0</td>\n",
       "      <td>0.0</td>\n",
       "      <td>0.0</td>\n",
       "      <td>0.0</td>\n",
       "      <td>0.0</td>\n",
       "    </tr>\n",
       "  </tbody>\n",
       "</table>\n",
       "<p>5 rows × 317 columns</p>\n",
       "</div>"
      ],
      "text/plain": [
       "     index                  Product                                  Issue  \\\n",
       "0  3098543          Debt collection          improper contact sharing info   \n",
       "1  4014715  Bank account or service                     deposit withdrawal   \n",
       "2   965199         Credit reporting                unable get credit score   \n",
       "3  3087735          Debt collection                   communication tactic   \n",
       "4  2965803                 Mortgage  loan servicing payment escrow account   \n",
       "\n",
       "                        Consumer complaint narrative State  \\\n",
       "0  I started getting calls from XXXX XXXX XXXX XX...    CA   \n",
       "1  I effected a transfer online of {$3500.00} fro...    FL   \n",
       "2  Hello, The FTC has a website recommending XXXX...    CA   \n",
       "3  after i was trying to figure out why i got a s...    TX   \n",
       "4  Chase Bank purchased my mortgage from XXXX XXX...    IN   \n",
       "\n",
       "  Consumer consent provided? Submitted via Company response to consumer  \\\n",
       "0           Consent provided           Web      Closed with explanation   \n",
       "1           Consent provided           Web      Closed with explanation   \n",
       "2           Consent provided           Web  Closed with monetary relief   \n",
       "3           Consent provided           Web      Closed with explanation   \n",
       "4           Consent provided           Web      Closed with explanation   \n",
       "\n",
       "  Timely response? Consumer disputed?  ...  296  297  298  299      300  301  \\\n",
       "0              Yes                 No  ...  0.0  0.0  0.0  0.0  0.00000  0.0   \n",
       "1               No                 No  ...  0.0  0.0  0.0  0.0  0.57735  0.0   \n",
       "2              Yes                 No  ...  0.0  0.0  0.0  0.0  0.00000  0.0   \n",
       "3              Yes                 No  ...  0.0  0.0  0.0  0.0  0.00000  0.0   \n",
       "4              Yes                 No  ...  0.0  0.0  0.0  0.0  0.00000  0.0   \n",
       "\n",
       "   302  303  304  305  \n",
       "0  0.0  0.0  0.0  0.0  \n",
       "1  0.0  0.0  0.0  0.0  \n",
       "2  0.0  0.0  0.0  0.0  \n",
       "3  0.0  0.0  0.0  0.0  \n",
       "4  0.0  0.0  0.0  0.0  \n",
       "\n",
       "[5 rows x 317 columns]"
      ]
     },
     "execution_count": 153,
     "metadata": {},
     "output_type": "execute_result"
    }
   ],
   "source": [
    "df1.head()"
   ]
  },
  {
   "cell_type": "code",
   "execution_count": 154,
   "metadata": {},
   "outputs": [
    {
     "data": {
      "text/plain": [
       "(71400, 317)"
      ]
     },
     "execution_count": 154,
     "metadata": {},
     "output_type": "execute_result"
    }
   ],
   "source": [
    "df1.shape"
   ]
  },
  {
   "cell_type": "code",
   "execution_count": 155,
   "metadata": {},
   "outputs": [],
   "source": [
    "#removing issue column\n",
    "df1.drop(['Issue','index'], axis=1, inplace=True)"
   ]
  },
  {
   "cell_type": "code",
   "execution_count": 156,
   "metadata": {},
   "outputs": [
    {
     "data": {
      "text/html": [
       "<div>\n",
       "<style scoped>\n",
       "    .dataframe tbody tr th:only-of-type {\n",
       "        vertical-align: middle;\n",
       "    }\n",
       "\n",
       "    .dataframe tbody tr th {\n",
       "        vertical-align: top;\n",
       "    }\n",
       "\n",
       "    .dataframe thead th {\n",
       "        text-align: right;\n",
       "    }\n",
       "</style>\n",
       "<table border=\"1\" class=\"dataframe\">\n",
       "  <thead>\n",
       "    <tr style=\"text-align: right;\">\n",
       "      <th></th>\n",
       "      <th>Product</th>\n",
       "      <th>Consumer complaint narrative</th>\n",
       "      <th>State</th>\n",
       "      <th>Consumer consent provided?</th>\n",
       "      <th>Submitted via</th>\n",
       "      <th>Company response to consumer</th>\n",
       "      <th>Timely response?</th>\n",
       "      <th>Consumer disputed?</th>\n",
       "      <th>days_to_forward_complaint</th>\n",
       "      <th>0</th>\n",
       "      <th>...</th>\n",
       "      <th>296</th>\n",
       "      <th>297</th>\n",
       "      <th>298</th>\n",
       "      <th>299</th>\n",
       "      <th>300</th>\n",
       "      <th>301</th>\n",
       "      <th>302</th>\n",
       "      <th>303</th>\n",
       "      <th>304</th>\n",
       "      <th>305</th>\n",
       "    </tr>\n",
       "  </thead>\n",
       "  <tbody>\n",
       "    <tr>\n",
       "      <th>0</th>\n",
       "      <td>Debt collection</td>\n",
       "      <td>I started getting calls from XXXX XXXX XXXX XX...</td>\n",
       "      <td>CA</td>\n",
       "      <td>Consent provided</td>\n",
       "      <td>Web</td>\n",
       "      <td>Closed with explanation</td>\n",
       "      <td>Yes</td>\n",
       "      <td>No</td>\n",
       "      <td>0</td>\n",
       "      <td>0.0</td>\n",
       "      <td>...</td>\n",
       "      <td>0.0</td>\n",
       "      <td>0.0</td>\n",
       "      <td>0.0</td>\n",
       "      <td>0.0</td>\n",
       "      <td>0.00000</td>\n",
       "      <td>0.0</td>\n",
       "      <td>0.0</td>\n",
       "      <td>0.0</td>\n",
       "      <td>0.0</td>\n",
       "      <td>0.0</td>\n",
       "    </tr>\n",
       "    <tr>\n",
       "      <th>1</th>\n",
       "      <td>Bank account or service</td>\n",
       "      <td>I effected a transfer online of {$3500.00} fro...</td>\n",
       "      <td>FL</td>\n",
       "      <td>Consent provided</td>\n",
       "      <td>Web</td>\n",
       "      <td>Closed with explanation</td>\n",
       "      <td>No</td>\n",
       "      <td>No</td>\n",
       "      <td>0</td>\n",
       "      <td>0.0</td>\n",
       "      <td>...</td>\n",
       "      <td>0.0</td>\n",
       "      <td>0.0</td>\n",
       "      <td>0.0</td>\n",
       "      <td>0.0</td>\n",
       "      <td>0.57735</td>\n",
       "      <td>0.0</td>\n",
       "      <td>0.0</td>\n",
       "      <td>0.0</td>\n",
       "      <td>0.0</td>\n",
       "      <td>0.0</td>\n",
       "    </tr>\n",
       "  </tbody>\n",
       "</table>\n",
       "<p>2 rows × 315 columns</p>\n",
       "</div>"
      ],
      "text/plain": [
       "                   Product                       Consumer complaint narrative  \\\n",
       "0          Debt collection  I started getting calls from XXXX XXXX XXXX XX...   \n",
       "1  Bank account or service  I effected a transfer online of {$3500.00} fro...   \n",
       "\n",
       "  State Consumer consent provided? Submitted via Company response to consumer  \\\n",
       "0    CA           Consent provided           Web      Closed with explanation   \n",
       "1    FL           Consent provided           Web      Closed with explanation   \n",
       "\n",
       "  Timely response? Consumer disputed?  days_to_forward_complaint    0  ...  \\\n",
       "0              Yes                 No                          0  0.0  ...   \n",
       "1               No                 No                          0  0.0  ...   \n",
       "\n",
       "   296  297  298  299      300  301  302  303  304  305  \n",
       "0  0.0  0.0  0.0  0.0  0.00000  0.0  0.0  0.0  0.0  0.0  \n",
       "1  0.0  0.0  0.0  0.0  0.57735  0.0  0.0  0.0  0.0  0.0  \n",
       "\n",
       "[2 rows x 315 columns]"
      ]
     },
     "execution_count": 156,
     "metadata": {},
     "output_type": "execute_result"
    }
   ],
   "source": [
    "df1.head(2)"
   ]
  },
  {
   "cell_type": "code",
   "execution_count": 157,
   "metadata": {},
   "outputs": [],
   "source": [
    "from sklearn.model_selection import train_test_split\n",
    "\n",
    "X = df1.drop(['Consumer disputed?'], axis=1)\n",
    "y = df1['Consumer disputed?']"
   ]
  },
  {
   "cell_type": "code",
   "execution_count": 158,
   "metadata": {},
   "outputs": [
    {
     "data": {
      "text/plain": [
       "(71400, 314)"
      ]
     },
     "execution_count": 158,
     "metadata": {},
     "output_type": "execute_result"
    }
   ],
   "source": [
    "X.shape"
   ]
  },
  {
   "cell_type": "code",
   "execution_count": 159,
   "metadata": {},
   "outputs": [
    {
     "data": {
      "text/plain": [
       "Index([                     'Product', 'Consumer complaint narrative',\n",
       "                              'State',   'Consumer consent provided?',\n",
       "                      'Submitted via', 'Company response to consumer',\n",
       "                   'Timely response?',           'Consumer disputed?',\n",
       "          'days_to_forward_complaint',                              0,\n",
       "       ...\n",
       "                                  296,                            297,\n",
       "                                  298,                            299,\n",
       "                                  300,                            301,\n",
       "                                  302,                            303,\n",
       "                                  304,                            305],\n",
       "      dtype='object', length=315)"
      ]
     },
     "execution_count": 159,
     "metadata": {},
     "output_type": "execute_result"
    }
   ],
   "source": [
    "df1.columns"
   ]
  },
  {
   "cell_type": "markdown",
   "metadata": {},
   "source": [
    "Initialize features for transformation"
   ]
  },
  {
   "cell_type": "markdown",
   "metadata": {},
   "source": [
    "Binary encoding and one-hot encoding are both techniques used in machine learning to transform categorical data into a format that can be used for training models."
   ]
  },
  {
   "cell_type": "code",
   "execution_count": 160,
   "metadata": {},
   "outputs": [],
   "source": [
    "#for binary encoder\n",
    "binary_features = ['Product', 'State', 'Submitted via', 'Company response to consumer']\n",
    "\n",
    "#for one hot encoding\n",
    "onehot_features = ['Consumer consent provided?', 'Timely response?', 'State']\n"
   ]
  },
  {
   "cell_type": "markdown",
   "metadata": {},
   "source": [
    "Create column transformer for transformation"
   ]
  },
  {
   "cell_type": "code",
   "execution_count": 161,
   "metadata": {},
   "outputs": [],
   "source": [
    "onehot_encoder_pipeline = Pipeline(steps=[\n",
    "    ('SimpleImputer', SimpleImputer(strategy='most_frequent')),\n",
    "    ('BinaryEncoder', BinaryEncoder())\n",
    "\n",
    "])"
   ]
  },
  {
   "cell_type": "code",
   "execution_count": 162,
   "metadata": {},
   "outputs": [],
   "source": [
    "binary_encoder_pipeline = Pipeline(steps= [\n",
    "    ('SimpleImputer', SimpleImputer(strategy='most_frequent')),\n",
    "    ('BinaryEncoder', BinaryEncoder())\n",
    "\n",
    "    \n",
    "])"
   ]
  },
  {
   "cell_type": "code",
   "execution_count": 163,
   "metadata": {},
   "outputs": [],
   "source": [
    "#getting data pre processor object\n",
    "\n",
    "preprocessor = ColumnTransformer(\n",
    "    [\n",
    "        (\"Categorical_Pipeline\", onehot_encoder_pipeline, onehot_features),\n",
    "        (\"Binary_encoder_pipeline\", binary_encoder_pipeline, binary_features),\n",
    "        #(\"Numeric_Pipeline\", RobustScaler(), numerical_feature)\n",
    "    ], remainder='passthrough'\n",
    ")"
   ]
  },
  {
   "cell_type": "code",
   "execution_count": 164,
   "metadata": {},
   "outputs": [
    {
     "data": {
      "text/plain": [
       "Product                          object\n",
       "Consumer complaint narrative     object\n",
       "State                            object\n",
       "Consumer consent provided?       object\n",
       "Submitted via                    object\n",
       "                                 ...   \n",
       "301                             float64\n",
       "302                             float64\n",
       "303                             float64\n",
       "304                             float64\n",
       "305                             float64\n",
       "Length: 314, dtype: object"
      ]
     },
     "execution_count": 164,
     "metadata": {},
     "output_type": "execute_result"
    }
   ],
   "source": [
    "X.dtypes"
   ]
  },
  {
   "cell_type": "markdown",
   "metadata": {},
   "source": [
    "Transforming the data for modelling"
   ]
  },
  {
   "cell_type": "code",
   "execution_count": 166,
   "metadata": {},
   "outputs": [],
   "source": [
    "# need to convert all columns to string data type\n",
    "\n",
    "X.columns = X.columns.astype(str)\n",
    "\n",
    "\n",
    "# fit transform the train data\n",
    "X = preprocessor.fit_transform(X)"
   ]
  },
  {
   "cell_type": "code",
   "execution_count": null,
   "metadata": {},
   "outputs": [
    {
     "data": {
      "text/plain": [
       "array([1, 1, 1, ..., 0, 0, 0])"
      ]
     },
     "execution_count": 119,
     "metadata": {},
     "output_type": "execute_result"
    }
   ],
   "source": [
    "y"
   ]
  },
  {
   "cell_type": "markdown",
   "metadata": {},
   "source": [
    "Mannually Encoding Target Geature"
   ]
  },
  {
   "cell_type": "code",
   "execution_count": null,
   "metadata": {},
   "outputs": [],
   "source": [
    "#manually encoding \"Yes\" as 0 and \"No\" as 1\n",
    "y = np.where(y.values == 'Yes', 0, 1)"
   ]
  },
  {
   "cell_type": "markdown",
   "metadata": {},
   "source": [
    "Handling Imbalanced Dataset\n",
    "\n",
    "* Synthtic minority oversampling technique or SMOTE is another technique to oversample the monority class. simply adding duplicate records of minority class ofter don't add any new information to the model\n",
    "* SMOTE is one of the famous oversampling techniques and is very effective in handling class imbalance. The idea is to combine SMOTE with some undersampling techniques (ENN, Tomek) to increase the effectiveness of handling the imbalanced data"
   ]
  },
  {
   "cell_type": "code",
   "execution_count": null,
   "metadata": {},
   "outputs": [
    {
     "data": {
      "text/plain": [
       "array([[1, 0, 1, ..., 0.0, 0.0, 0.0],\n",
       "       [1, 0, 1, ..., 0.0, 0.0, 0.0],\n",
       "       [1, 0, 1, ..., 0.0, 0.0, 0.0],\n",
       "       ...,\n",
       "       [1, 0, 1, ..., 0.0, 0.0, 0.0],\n",
       "       [1, 0, 1, ..., 0.0, 0.0, 0.0],\n",
       "       [1, 0, 1, ..., 0.0, 0.0, 0.0]], dtype=object)"
      ]
     },
     "execution_count": 110,
     "metadata": {},
     "output_type": "execute_result"
    }
   ],
   "source": [
    "X"
   ]
  },
  {
   "cell_type": "code",
   "execution_count": null,
   "metadata": {},
   "outputs": [
    {
     "data": {
      "text/plain": [
       "array([1, 1, 1, ..., 0, 0, 0])"
      ]
     },
     "execution_count": 111,
     "metadata": {},
     "output_type": "execute_result"
    }
   ],
   "source": [
    "y"
   ]
  },
  {
   "cell_type": "code",
   "execution_count": null,
   "metadata": {},
   "outputs": [
    {
     "ename": "ValueError",
     "evalue": "could not convert string to float: \"About a two months ago, I began receiving threatening phone calls from a debt collector service regarding a online payday loan that I never received. The company threatened that I committed check fraud and that there will be someone coming to my job to arrest me. I spoke to an individual who was very nasty and would not give me much information. They told me I better pay the loan and hung up. I called back and was extremely upset about this call. I was finally able to speak to someone to explain that I needed to pull my bank records from XXXX 2011. I went to the bank and pulled the information and called this company back and was told to fax the information in. WelI, I faxed in this information and called again speaking to different people and I was told that I was okay and should not get any more calls. Two days later, they began calling my cell, my father 's telephone number and my home number. I again attempted to call and explained what I was told and I reached the same nasty person STATING THAT I BETTER PAY THE MONEY AND HUNG UP. I proceeded to keep calling to get someone different and never did and then the gentleman stated that he would have them come after me for harassment. I could n't believe the conversation. I faxed the information again and left it alone. Three weeks later I receive a call on my telephone from a woman stating that she has my business address and have been given some paperwork to have me picked up and processed for this outstanding charge that I never had. This time the amount was huge and they stated that I had to pay it in order for me not to be arrested. With my job on the line I paid XXXX dollars allowing these people to have my debit card. However after getting off the phone crying, I began to contact people and told them what happened and they informed me that I was duped out of my money. The dept collectors company from the XXXX call never provided their name and all I have is telephone number XXXX and the payday loan they mentioned was XXXX XXXX. The next debt collector did provide their name XXXX XXXX XXXX located in PA and XXXX as well as the person who called to threaten that I would be picked up, XXXX. I have tried to call this number back and no one will pick up. I was given a name XXXX XXXX and the company that is now stating I owe for a payday loan is now call Midland Funding.\"",
     "output_type": "error",
     "traceback": [
      "\u001b[1;31m---------------------------------------------------------------------------\u001b[0m",
      "\u001b[1;31mValueError\u001b[0m                                Traceback (most recent call last)",
      "Cell \u001b[1;32mIn[117], line 5\u001b[0m\n\u001b[0;32m      2\u001b[0m \u001b[38;5;28;01mfrom\u001b[39;00m \u001b[38;5;21;01mimblearn\u001b[39;00m\u001b[38;5;21;01m.\u001b[39;00m\u001b[38;5;21;01mcombine\u001b[39;00m \u001b[38;5;28;01mimport\u001b[39;00m SMOTETomek\n\u001b[0;32m      4\u001b[0m smt \u001b[38;5;241m=\u001b[39m SMOTETomek(random_state\u001b[38;5;241m=\u001b[39m\u001b[38;5;241m42\u001b[39m, sampling_strategy\u001b[38;5;241m=\u001b[39m\u001b[38;5;124m'\u001b[39m\u001b[38;5;124mminority\u001b[39m\u001b[38;5;124m'\u001b[39m, n_jobs\u001b[38;5;241m=\u001b[39m\u001b[38;5;241m-\u001b[39m\u001b[38;5;241m1\u001b[39m)\n\u001b[1;32m----> 5\u001b[0m X_res, y_res \u001b[38;5;241m=\u001b[39m \u001b[43msmt\u001b[49m\u001b[38;5;241;43m.\u001b[39;49m\u001b[43mfit_resample\u001b[49m\u001b[43m(\u001b[49m\u001b[43mX\u001b[49m\u001b[43m,\u001b[49m\u001b[43m \u001b[49m\u001b[43my\u001b[49m\u001b[43m)\u001b[49m\n",
      "File \u001b[1;32mc:\\Users\\aakkewar\\AppData\\Local\\Programs\\Python\\Python39\\lib\\site-packages\\imblearn\\base.py:208\u001b[0m, in \u001b[0;36mBaseSampler.fit_resample\u001b[1;34m(self, X, y)\u001b[0m\n\u001b[0;32m    187\u001b[0m \u001b[38;5;250m\u001b[39m\u001b[38;5;124;03m\"\"\"Resample the dataset.\u001b[39;00m\n\u001b[0;32m    188\u001b[0m \n\u001b[0;32m    189\u001b[0m \u001b[38;5;124;03mParameters\u001b[39;00m\n\u001b[1;32m   (...)\u001b[0m\n\u001b[0;32m    205\u001b[0m \u001b[38;5;124;03m    The corresponding label of `X_resampled`.\u001b[39;00m\n\u001b[0;32m    206\u001b[0m \u001b[38;5;124;03m\"\"\"\u001b[39;00m\n\u001b[0;32m    207\u001b[0m \u001b[38;5;28mself\u001b[39m\u001b[38;5;241m.\u001b[39m_validate_params()\n\u001b[1;32m--> 208\u001b[0m \u001b[38;5;28;01mreturn\u001b[39;00m \u001b[38;5;28;43msuper\u001b[39;49m\u001b[43m(\u001b[49m\u001b[43m)\u001b[49m\u001b[38;5;241;43m.\u001b[39;49m\u001b[43mfit_resample\u001b[49m\u001b[43m(\u001b[49m\u001b[43mX\u001b[49m\u001b[43m,\u001b[49m\u001b[43m \u001b[49m\u001b[43my\u001b[49m\u001b[43m)\u001b[49m\n",
      "File \u001b[1;32mc:\\Users\\aakkewar\\AppData\\Local\\Programs\\Python\\Python39\\lib\\site-packages\\imblearn\\base.py:106\u001b[0m, in \u001b[0;36mSamplerMixin.fit_resample\u001b[1;34m(self, X, y)\u001b[0m\n\u001b[0;32m    104\u001b[0m check_classification_targets(y)\n\u001b[0;32m    105\u001b[0m arrays_transformer \u001b[38;5;241m=\u001b[39m ArraysTransformer(X, y)\n\u001b[1;32m--> 106\u001b[0m X, y, binarize_y \u001b[38;5;241m=\u001b[39m \u001b[38;5;28;43mself\u001b[39;49m\u001b[38;5;241;43m.\u001b[39;49m\u001b[43m_check_X_y\u001b[49m\u001b[43m(\u001b[49m\u001b[43mX\u001b[49m\u001b[43m,\u001b[49m\u001b[43m \u001b[49m\u001b[43my\u001b[49m\u001b[43m)\u001b[49m\n\u001b[0;32m    108\u001b[0m \u001b[38;5;28mself\u001b[39m\u001b[38;5;241m.\u001b[39msampling_strategy_ \u001b[38;5;241m=\u001b[39m check_sampling_strategy(\n\u001b[0;32m    109\u001b[0m     \u001b[38;5;28mself\u001b[39m\u001b[38;5;241m.\u001b[39msampling_strategy, y, \u001b[38;5;28mself\u001b[39m\u001b[38;5;241m.\u001b[39m_sampling_type\n\u001b[0;32m    110\u001b[0m )\n\u001b[0;32m    112\u001b[0m output \u001b[38;5;241m=\u001b[39m \u001b[38;5;28mself\u001b[39m\u001b[38;5;241m.\u001b[39m_fit_resample(X, y)\n",
      "File \u001b[1;32mc:\\Users\\aakkewar\\AppData\\Local\\Programs\\Python\\Python39\\lib\\site-packages\\imblearn\\base.py:161\u001b[0m, in \u001b[0;36mBaseSampler._check_X_y\u001b[1;34m(self, X, y, accept_sparse)\u001b[0m\n\u001b[0;32m    159\u001b[0m     accept_sparse \u001b[38;5;241m=\u001b[39m [\u001b[38;5;124m\"\u001b[39m\u001b[38;5;124mcsr\u001b[39m\u001b[38;5;124m\"\u001b[39m, \u001b[38;5;124m\"\u001b[39m\u001b[38;5;124mcsc\u001b[39m\u001b[38;5;124m\"\u001b[39m]\n\u001b[0;32m    160\u001b[0m y, binarize_y \u001b[38;5;241m=\u001b[39m check_target_type(y, indicate_one_vs_all\u001b[38;5;241m=\u001b[39m\u001b[38;5;28;01mTrue\u001b[39;00m)\n\u001b[1;32m--> 161\u001b[0m X, y \u001b[38;5;241m=\u001b[39m \u001b[38;5;28;43mself\u001b[39;49m\u001b[38;5;241;43m.\u001b[39;49m\u001b[43m_validate_data\u001b[49m\u001b[43m(\u001b[49m\u001b[43mX\u001b[49m\u001b[43m,\u001b[49m\u001b[43m \u001b[49m\u001b[43my\u001b[49m\u001b[43m,\u001b[49m\u001b[43m \u001b[49m\u001b[43mreset\u001b[49m\u001b[38;5;241;43m=\u001b[39;49m\u001b[38;5;28;43;01mTrue\u001b[39;49;00m\u001b[43m,\u001b[49m\u001b[43m \u001b[49m\u001b[43maccept_sparse\u001b[49m\u001b[38;5;241;43m=\u001b[39;49m\u001b[43maccept_sparse\u001b[49m\u001b[43m)\u001b[49m\n\u001b[0;32m    162\u001b[0m \u001b[38;5;28;01mreturn\u001b[39;00m X, y, binarize_y\n",
      "File \u001b[1;32mc:\\Users\\aakkewar\\AppData\\Local\\Programs\\Python\\Python39\\lib\\site-packages\\sklearn\\base.py:650\u001b[0m, in \u001b[0;36mBaseEstimator._validate_data\u001b[1;34m(self, X, y, reset, validate_separately, cast_to_ndarray, **check_params)\u001b[0m\n\u001b[0;32m    648\u001b[0m         y \u001b[38;5;241m=\u001b[39m check_array(y, input_name\u001b[38;5;241m=\u001b[39m\u001b[38;5;124m\"\u001b[39m\u001b[38;5;124my\u001b[39m\u001b[38;5;124m\"\u001b[39m, \u001b[38;5;241m*\u001b[39m\u001b[38;5;241m*\u001b[39mcheck_y_params)\n\u001b[0;32m    649\u001b[0m     \u001b[38;5;28;01melse\u001b[39;00m:\n\u001b[1;32m--> 650\u001b[0m         X, y \u001b[38;5;241m=\u001b[39m check_X_y(X, y, \u001b[38;5;241m*\u001b[39m\u001b[38;5;241m*\u001b[39mcheck_params)\n\u001b[0;32m    651\u001b[0m     out \u001b[38;5;241m=\u001b[39m X, y\n\u001b[0;32m    653\u001b[0m \u001b[38;5;28;01mif\u001b[39;00m \u001b[38;5;129;01mnot\u001b[39;00m no_val_X \u001b[38;5;129;01mand\u001b[39;00m check_params\u001b[38;5;241m.\u001b[39mget(\u001b[38;5;124m\"\u001b[39m\u001b[38;5;124mensure_2d\u001b[39m\u001b[38;5;124m\"\u001b[39m, \u001b[38;5;28;01mTrue\u001b[39;00m):\n",
      "File \u001b[1;32mc:\\Users\\aakkewar\\AppData\\Local\\Programs\\Python\\Python39\\lib\\site-packages\\sklearn\\utils\\validation.py:1192\u001b[0m, in \u001b[0;36mcheck_X_y\u001b[1;34m(X, y, accept_sparse, accept_large_sparse, dtype, order, copy, force_all_finite, ensure_2d, allow_nd, multi_output, ensure_min_samples, ensure_min_features, y_numeric, estimator)\u001b[0m\n\u001b[0;32m   1187\u001b[0m         estimator_name \u001b[38;5;241m=\u001b[39m _check_estimator_name(estimator)\n\u001b[0;32m   1188\u001b[0m     \u001b[38;5;28;01mraise\u001b[39;00m \u001b[38;5;167;01mValueError\u001b[39;00m(\n\u001b[0;32m   1189\u001b[0m         \u001b[38;5;124mf\u001b[39m\u001b[38;5;124m\"\u001b[39m\u001b[38;5;132;01m{\u001b[39;00mestimator_name\u001b[38;5;132;01m}\u001b[39;00m\u001b[38;5;124m requires y to be passed, but the target y is None\u001b[39m\u001b[38;5;124m\"\u001b[39m\n\u001b[0;32m   1190\u001b[0m     )\n\u001b[1;32m-> 1192\u001b[0m X \u001b[38;5;241m=\u001b[39m \u001b[43mcheck_array\u001b[49m\u001b[43m(\u001b[49m\n\u001b[0;32m   1193\u001b[0m \u001b[43m    \u001b[49m\u001b[43mX\u001b[49m\u001b[43m,\u001b[49m\n\u001b[0;32m   1194\u001b[0m \u001b[43m    \u001b[49m\u001b[43maccept_sparse\u001b[49m\u001b[38;5;241;43m=\u001b[39;49m\u001b[43maccept_sparse\u001b[49m\u001b[43m,\u001b[49m\n\u001b[0;32m   1195\u001b[0m \u001b[43m    \u001b[49m\u001b[43maccept_large_sparse\u001b[49m\u001b[38;5;241;43m=\u001b[39;49m\u001b[43maccept_large_sparse\u001b[49m\u001b[43m,\u001b[49m\n\u001b[0;32m   1196\u001b[0m \u001b[43m    \u001b[49m\u001b[43mdtype\u001b[49m\u001b[38;5;241;43m=\u001b[39;49m\u001b[43mdtype\u001b[49m\u001b[43m,\u001b[49m\n\u001b[0;32m   1197\u001b[0m \u001b[43m    \u001b[49m\u001b[43morder\u001b[49m\u001b[38;5;241;43m=\u001b[39;49m\u001b[43morder\u001b[49m\u001b[43m,\u001b[49m\n\u001b[0;32m   1198\u001b[0m \u001b[43m    \u001b[49m\u001b[43mcopy\u001b[49m\u001b[38;5;241;43m=\u001b[39;49m\u001b[43mcopy\u001b[49m\u001b[43m,\u001b[49m\n\u001b[0;32m   1199\u001b[0m \u001b[43m    \u001b[49m\u001b[43mforce_all_finite\u001b[49m\u001b[38;5;241;43m=\u001b[39;49m\u001b[43mforce_all_finite\u001b[49m\u001b[43m,\u001b[49m\n\u001b[0;32m   1200\u001b[0m \u001b[43m    \u001b[49m\u001b[43mensure_2d\u001b[49m\u001b[38;5;241;43m=\u001b[39;49m\u001b[43mensure_2d\u001b[49m\u001b[43m,\u001b[49m\n\u001b[0;32m   1201\u001b[0m \u001b[43m    \u001b[49m\u001b[43mallow_nd\u001b[49m\u001b[38;5;241;43m=\u001b[39;49m\u001b[43mallow_nd\u001b[49m\u001b[43m,\u001b[49m\n\u001b[0;32m   1202\u001b[0m \u001b[43m    \u001b[49m\u001b[43mensure_min_samples\u001b[49m\u001b[38;5;241;43m=\u001b[39;49m\u001b[43mensure_min_samples\u001b[49m\u001b[43m,\u001b[49m\n\u001b[0;32m   1203\u001b[0m \u001b[43m    \u001b[49m\u001b[43mensure_min_features\u001b[49m\u001b[38;5;241;43m=\u001b[39;49m\u001b[43mensure_min_features\u001b[49m\u001b[43m,\u001b[49m\n\u001b[0;32m   1204\u001b[0m \u001b[43m    \u001b[49m\u001b[43mestimator\u001b[49m\u001b[38;5;241;43m=\u001b[39;49m\u001b[43mestimator\u001b[49m\u001b[43m,\u001b[49m\n\u001b[0;32m   1205\u001b[0m \u001b[43m    \u001b[49m\u001b[43minput_name\u001b[49m\u001b[38;5;241;43m=\u001b[39;49m\u001b[38;5;124;43m\"\u001b[39;49m\u001b[38;5;124;43mX\u001b[39;49m\u001b[38;5;124;43m\"\u001b[39;49m\u001b[43m,\u001b[49m\n\u001b[0;32m   1206\u001b[0m \u001b[43m\u001b[49m\u001b[43m)\u001b[49m\n\u001b[0;32m   1208\u001b[0m y \u001b[38;5;241m=\u001b[39m _check_y(y, multi_output\u001b[38;5;241m=\u001b[39mmulti_output, y_numeric\u001b[38;5;241m=\u001b[39my_numeric, estimator\u001b[38;5;241m=\u001b[39mestimator)\n\u001b[0;32m   1210\u001b[0m check_consistent_length(X, y)\n",
      "File \u001b[1;32mc:\\Users\\aakkewar\\AppData\\Local\\Programs\\Python\\Python39\\lib\\site-packages\\sklearn\\utils\\validation.py:951\u001b[0m, in \u001b[0;36mcheck_array\u001b[1;34m(array, accept_sparse, accept_large_sparse, dtype, order, copy, force_all_finite, ensure_2d, allow_nd, ensure_min_samples, ensure_min_features, estimator, input_name)\u001b[0m\n\u001b[0;32m    949\u001b[0m         array \u001b[38;5;241m=\u001b[39m xp\u001b[38;5;241m.\u001b[39mastype(array, dtype, copy\u001b[38;5;241m=\u001b[39m\u001b[38;5;28;01mFalse\u001b[39;00m)\n\u001b[0;32m    950\u001b[0m     \u001b[38;5;28;01melse\u001b[39;00m:\n\u001b[1;32m--> 951\u001b[0m         array \u001b[38;5;241m=\u001b[39m \u001b[43m_asarray_with_order\u001b[49m\u001b[43m(\u001b[49m\u001b[43marray\u001b[49m\u001b[43m,\u001b[49m\u001b[43m \u001b[49m\u001b[43morder\u001b[49m\u001b[38;5;241;43m=\u001b[39;49m\u001b[43morder\u001b[49m\u001b[43m,\u001b[49m\u001b[43m \u001b[49m\u001b[43mdtype\u001b[49m\u001b[38;5;241;43m=\u001b[39;49m\u001b[43mdtype\u001b[49m\u001b[43m,\u001b[49m\u001b[43m \u001b[49m\u001b[43mxp\u001b[49m\u001b[38;5;241;43m=\u001b[39;49m\u001b[43mxp\u001b[49m\u001b[43m)\u001b[49m\n\u001b[0;32m    952\u001b[0m \u001b[38;5;28;01mexcept\u001b[39;00m ComplexWarning \u001b[38;5;28;01mas\u001b[39;00m complex_warning:\n\u001b[0;32m    953\u001b[0m     \u001b[38;5;28;01mraise\u001b[39;00m \u001b[38;5;167;01mValueError\u001b[39;00m(\n\u001b[0;32m    954\u001b[0m         \u001b[38;5;124m\"\u001b[39m\u001b[38;5;124mComplex data not supported\u001b[39m\u001b[38;5;130;01m\\n\u001b[39;00m\u001b[38;5;132;01m{}\u001b[39;00m\u001b[38;5;130;01m\\n\u001b[39;00m\u001b[38;5;124m\"\u001b[39m\u001b[38;5;241m.\u001b[39mformat(array)\n\u001b[0;32m    955\u001b[0m     ) \u001b[38;5;28;01mfrom\u001b[39;00m \u001b[38;5;21;01mcomplex_warning\u001b[39;00m\n",
      "File \u001b[1;32mc:\\Users\\aakkewar\\AppData\\Local\\Programs\\Python\\Python39\\lib\\site-packages\\sklearn\\utils\\_array_api.py:521\u001b[0m, in \u001b[0;36m_asarray_with_order\u001b[1;34m(array, dtype, order, copy, xp)\u001b[0m\n\u001b[0;32m    519\u001b[0m     array \u001b[38;5;241m=\u001b[39m numpy\u001b[38;5;241m.\u001b[39marray(array, order\u001b[38;5;241m=\u001b[39morder, dtype\u001b[38;5;241m=\u001b[39mdtype)\n\u001b[0;32m    520\u001b[0m \u001b[38;5;28;01melse\u001b[39;00m:\n\u001b[1;32m--> 521\u001b[0m     array \u001b[38;5;241m=\u001b[39m \u001b[43mnumpy\u001b[49m\u001b[38;5;241;43m.\u001b[39;49m\u001b[43masarray\u001b[49m\u001b[43m(\u001b[49m\u001b[43marray\u001b[49m\u001b[43m,\u001b[49m\u001b[43m \u001b[49m\u001b[43morder\u001b[49m\u001b[38;5;241;43m=\u001b[39;49m\u001b[43morder\u001b[49m\u001b[43m,\u001b[49m\u001b[43m \u001b[49m\u001b[43mdtype\u001b[49m\u001b[38;5;241;43m=\u001b[39;49m\u001b[43mdtype\u001b[49m\u001b[43m)\u001b[49m\n\u001b[0;32m    523\u001b[0m \u001b[38;5;66;03m# At this point array is a NumPy ndarray. We convert it to an array\u001b[39;00m\n\u001b[0;32m    524\u001b[0m \u001b[38;5;66;03m# container that is consistent with the input's namespace.\u001b[39;00m\n\u001b[0;32m    525\u001b[0m \u001b[38;5;28;01mreturn\u001b[39;00m xp\u001b[38;5;241m.\u001b[39masarray(array)\n",
      "\u001b[1;31mValueError\u001b[0m: could not convert string to float: \"About a two months ago, I began receiving threatening phone calls from a debt collector service regarding a online payday loan that I never received. The company threatened that I committed check fraud and that there will be someone coming to my job to arrest me. I spoke to an individual who was very nasty and would not give me much information. They told me I better pay the loan and hung up. I called back and was extremely upset about this call. I was finally able to speak to someone to explain that I needed to pull my bank records from XXXX 2011. I went to the bank and pulled the information and called this company back and was told to fax the information in. WelI, I faxed in this information and called again speaking to different people and I was told that I was okay and should not get any more calls. Two days later, they began calling my cell, my father 's telephone number and my home number. I again attempted to call and explained what I was told and I reached the same nasty person STATING THAT I BETTER PAY THE MONEY AND HUNG UP. I proceeded to keep calling to get someone different and never did and then the gentleman stated that he would have them come after me for harassment. I could n't believe the conversation. I faxed the information again and left it alone. Three weeks later I receive a call on my telephone from a woman stating that she has my business address and have been given some paperwork to have me picked up and processed for this outstanding charge that I never had. This time the amount was huge and they stated that I had to pay it in order for me not to be arrested. With my job on the line I paid XXXX dollars allowing these people to have my debit card. However after getting off the phone crying, I began to contact people and told them what happened and they informed me that I was duped out of my money. The dept collectors company from the XXXX call never provided their name and all I have is telephone number XXXX and the payday loan they mentioned was XXXX XXXX. The next debt collector did provide their name XXXX XXXX XXXX located in PA and XXXX as well as the person who called to threaten that I would be picked up, XXXX. I have tried to call this number back and no one will pick up. I was given a name XXXX XXXX and the company that is now stating I owe for a payday loan is now call Midland Funding.\""
     ]
    }
   ],
   "source": [
    "# Resampling the minority class. The strategy can be changed as required\n",
    "from imblearn.combine import SMOTETomek\n",
    "\n",
    "smt = SMOTETomek(random_state=42, sampling_strategy='minority', n_jobs=-1)\n",
    "X_res, y_res = smt.fit_resample(X, y)"
   ]
  },
  {
   "cell_type": "code",
   "execution_count": null,
   "metadata": {},
   "outputs": [
    {
     "data": {
      "text/plain": [
       "array([[1, 0, 1, ..., 0.0, 0.0, 0.0],\n",
       "       [1, 0, 1, ..., 0.0, 0.0, 0.0],\n",
       "       [1, 0, 1, ..., 0.0, 0.0, 0.0],\n",
       "       ...,\n",
       "       [1, 0, 1, ..., 0.0, 0.0, 0.0],\n",
       "       [1, 0, 1, ..., 0.0, 0.0, 0.0],\n",
       "       [1, 0, 1, ..., 0.0, 0.0, 0.0]], dtype=object)"
      ]
     },
     "execution_count": 51,
     "metadata": {},
     "output_type": "execute_result"
    }
   ],
   "source": [
    "X"
   ]
  },
  {
   "cell_type": "code",
   "execution_count": null,
   "metadata": {},
   "outputs": [
    {
     "data": {
      "text/plain": [
       "array([1, 1, 1, ..., 0, 0, 0])"
      ]
     },
     "execution_count": 52,
     "metadata": {},
     "output_type": "execute_result"
    }
   ],
   "source": [
    "y"
   ]
  },
  {
   "cell_type": "markdown",
   "metadata": {},
   "source": [
    "Model Selection\n",
    "\n",
    "Here should understand the various classification models with default values from these models we can choose top 4 with Highest Accuracy score and preceed with HyperParameter tuning"
   ]
  },
  {
   "cell_type": "code",
   "execution_count": null,
   "metadata": {},
   "outputs": [],
   "source": [
    "# Function which returns all evaluation metrics for classification model\n",
    "\n",
    "def evaluate_clf(true, predicted):\n",
    "    acc  = accuracy_score(true, predicted) # to calculate accuracy\n",
    "    f1 = f1_score(true, predicted) # to calcualate F1-score\n",
    "    precision = precision_score(true, predicted) # to calculate precision\n",
    "    recall = recall_score(true, predicted) # to calculate recall\n",
    "    roc_auc = roc_auc_score(true, predicted) # to calcualte ROC\n",
    "    return acc, f1, precision, recall, roc_auc"
   ]
  },
  {
   "cell_type": "code",
   "execution_count": null,
   "metadata": {},
   "outputs": [],
   "source": [
    "#Initialize models which are required for model selection\n",
    "\n",
    "model ={\n",
    "\n",
    "    \"Random Forest\": RandomForestClassifier(),\n",
    "    \"Decision Tree\": DecisionTreeClassifier(),\n",
    "    \"Gradient Boosting\": GradientBoostingClassifier(),\n",
    "    \"Logistic Regression\": LogisticRegression(),\n",
    "    \"K-Neighbors Classifier\": KNeighborsClassifier(),\n",
    "    \"XGBClassifier\": XGBClassifier(),\n",
    "    \"CatBoostClassifier\": CatBoostClassifier(verbose=False),\n",
    "    \"AdaBoostClassifier\": AdaBoostClassifier()\n",
    "}"
   ]
  },
  {
   "cell_type": "code",
   "execution_count": null,
   "metadata": {},
   "outputs": [],
   "source": [
    "#Create a function which can evaluate models and return a report in Dataframe\n",
    "\n",
    "def evaluate_models(X, y, models):\n",
    "    '''\n",
    "    This functino takes in X and y and models dictionary as input\n",
    "    It splits the data into Train Test Split\n",
    "    Iterates through the given model dicttionary and evalutes teh metrics\n",
    "    Returns: Dataframe which contains report of all models metrics with cost\n",
    "\n",
    "    '''\n",
    "\n",
    "    X_train, X_test, y_train, y_test = train_test_split(X,y,test_size=0.2, random_state=42)\n",
    "\n",
    "    models_list = []\n",
    "    accuracy_list = []\n",
    "    auc = []\n",
    "\n",
    "    for i in range(len(list(models))):\n",
    "        model = list(models.values())[i]\n",
    "        model.fit(X_train,y_train)\n",
    "\n",
    "        #make prediction\n",
    "\n",
    "        y_train_pred = model.predict(X_train)\n",
    "        y_test_pred = model.predict(X_test)\n",
    "\n",
    "        # Training set performance\n",
    "        model_train_accurancy, model_train_f1, model_train_precision, model_train_recall, model_train_rocauc_score = evaluate_clf(y_train, y_train_pred)\n",
    "\n",
    "        #Test set performance\n",
    "        model_test_accurancy, model_test_f1, model_test_precision, model_test_recall, model_test_rocauc_score = evaluate_clf(y_test, y_test_pred)\n",
    "\n",
    "        print(list(models.keys())[i])\n",
    "        models_list.append(list(models.keys())[i])\n",
    "\n",
    "        print('Model performance for Training set')\n",
    "        print(\"- Accuracy: {:.4f}\".format(model_train_accurancy))\n",
    "        print('- F1 score {:.4f}'.format(model_train_f1))\n",
    "        print('-Precision {:.4f}'.format(model_train_precision))\n",
    "        print('Recall: {:.4f}'.format(model_train_recall))\n",
    "        print(\"- ROC AUC Score {:.4f}\".format(model_train_rocauc_score))\n",
    "\n",
    "        print(\"=-------------------------------------=\")\n",
    "\n",
    "        print('Model performance for Test set')\n",
    "        print(\"- Accuracy: {:.4f}\".format(model_test_accurancy))\n",
    "        print('- F1 score {:.4f}'.format(model_test_f1))\n",
    "        print('-Precision {:.4f}'.format(model_test_precision))\n",
    "        print('Recall: {:.4f}'.format(model_test_recall))\n",
    "        print(\"- ROC AUC Score {:.4f}\".format(model_test_rocauc_score))\n",
    "\n",
    "        auc.append(model_test_rocauc_score)\n",
    "        print('='*35)\n",
    "        print('\\n')\n",
    "\n",
    "\n",
    "    report = pd.DataFrame(list(zip(models_list, accuracy_list)), columns=[\"Model Name\", 'Accuracy']).sort_values(by=['Accuracy'], ascending=False)\n",
    "\n",
    "    return report"
   ]
  },
  {
   "cell_type": "markdown",
   "metadata": {},
   "source": [
    "Base report of all models with default parameters"
   ]
  },
  {
   "cell_type": "code",
   "execution_count": null,
   "metadata": {},
   "outputs": [
    {
     "ename": "NameError",
     "evalue": "name 'X_res' is not defined",
     "output_type": "error",
     "traceback": [
      "\u001b[1;31m---------------------------------------------------------------------------\u001b[0m",
      "\u001b[1;31mNameError\u001b[0m                                 Traceback (most recent call last)",
      "Cell \u001b[1;32mIn[60], line 1\u001b[0m\n\u001b[1;32m----> 1\u001b[0m base_report \u001b[38;5;241m=\u001b[39m evaluate_models(X\u001b[38;5;241m=\u001b[39m\u001b[43mX_res\u001b[49m, y\u001b[38;5;241m=\u001b[39m y_res, models\u001b[38;5;241m=\u001b[39m models)\n",
      "\u001b[1;31mNameError\u001b[0m: name 'X_res' is not defined"
     ]
    }
   ],
   "source": [
    "base_report = evaluate_models(X=X_res, y= y_res, models= models)"
   ]
  },
  {
   "cell_type": "code",
   "execution_count": null,
   "metadata": {},
   "outputs": [],
   "source": [
    "base_report"
   ]
  }
 ],
 "metadata": {
  "kernelspec": {
   "display_name": "Python 3",
   "language": "python",
   "name": "python3"
  },
  "language_info": {
   "codemirror_mode": {
    "name": "ipython",
    "version": 3
   },
   "file_extension": ".py",
   "mimetype": "text/x-python",
   "name": "python",
   "nbconvert_exporter": "python",
   "pygments_lexer": "ipython3",
   "version": "3.9.0"
  }
 },
 "nbformat": 4,
 "nbformat_minor": 2
}
